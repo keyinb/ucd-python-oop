{
 "cells": [
  {
   "cell_type": "markdown",
   "id": "0d93111b",
   "metadata": {},
   "source": [
    "# Cian Belton 19321726 Assignment 1\n",
    "## Exercise 1- I describe my code in the comments within each cell"
   ]
  },
  {
   "cell_type": "code",
   "execution_count": 1,
   "id": "f122ee74",
   "metadata": {
    "ExecuteTime": {
     "end_time": "2022-12-15T12:30:56.446817Z",
     "start_time": "2022-12-15T12:30:56.443333Z"
    }
   },
   "outputs": [],
   "source": [
    "#Task1\n",
    "class Location:\n",
    "    def __init__(self, x_pos, y_pos):\n",
    "        self.__x_pos=x_pos\n",
    "        self.__y_pos=y_pos\n",
    "        ##mthe double under-score variables are private by name mangling\n",
    "        \n",
    "    #gets the location co-ordinates\n",
    "    def get_loc(self):\n",
    "        return [self.__x_pos, self.__y_pos]\n",
    "    \n",
    "    #sets the location co-ordinates\n",
    "    def set_loc(self, x_loc, y_loc):\n",
    "        self.__x_pos=x_loc\n",
    "        self.__y_pos=y_loc\n",
    "#Task2        \n",
    "    #return the values in required format\n",
    "    def __str__(self):\n",
    "        dispstr= f\"X: {self.__x_pos}, Y: {self.__y_pos}\"\n",
    "        return dispstr\n",
    "#Task3    \n",
    "    def manhattan_dist(self, loc_2):\n",
    "       #Position 0 contains x-value, 1 has y value using intermediate variable to avoid subscript error\n",
    "        i=self.get_loc()#get location of this instance of Location\n",
    "        j=loc_2.get_loc()#get location of location passed into method\n",
    "        __x_pos1=i[0]\n",
    "        __y_pos1=i[1]\n",
    "        __x_pos2=j[0]\n",
    "        __y_pos2=j[1]\n",
    "        #Now have the four co-ordinates\n",
    "        man_dist= abs(__x_pos1-__x_pos2)+abs(__y_pos1-__y_pos2)\n",
    "        return man_dist\n",
    "        "
   ]
  },
  {
   "cell_type": "markdown",
   "id": "2d2bab50",
   "metadata": {
    "ExecuteTime": {
     "end_time": "2022-11-08T13:55:21.527416Z",
     "start_time": "2022-11-08T13:55:21.523492Z"
    }
   },
   "source": [
    "### Error checking for task 1 and 2"
   ]
  },
  {
   "cell_type": "code",
   "execution_count": 2,
   "id": "4f19d4b4",
   "metadata": {
    "ExecuteTime": {
     "end_time": "2022-12-15T12:30:57.885818Z",
     "start_time": "2022-12-15T12:30:57.879987Z"
    }
   },
   "outputs": [
    {
     "name": "stdout",
     "output_type": "stream",
     "text": [
      "X: 0, Y: 0\n",
      "X: 5, Y: 10\n"
     ]
    },
    {
     "data": {
      "text/plain": [
       "[5, 10]"
      ]
     },
     "execution_count": 2,
     "metadata": {},
     "output_type": "execute_result"
    }
   ],
   "source": [
    "ref=Location(0,0)\n",
    "print(ref)\n",
    "ref.set_loc(5,10)\n",
    "print(ref)\n",
    "ref.get_loc()"
   ]
  },
  {
   "cell_type": "markdown",
   "id": "5d143400",
   "metadata": {},
   "source": [
    "### Error checking for task 3"
   ]
  },
  {
   "cell_type": "code",
   "execution_count": 3,
   "id": "e128f709",
   "metadata": {
    "ExecuteTime": {
     "end_time": "2022-12-15T12:31:06.957042Z",
     "start_time": "2022-12-15T12:31:06.954980Z"
    }
   },
   "outputs": [
    {
     "name": "stdout",
     "output_type": "stream",
     "text": [
      "25\n"
     ]
    }
   ],
   "source": [
    "ref = Location(0,0)\n",
    "A = Location(10,15)\n",
    "print(ref.manhattan_dist(A))"
   ]
  },
  {
   "cell_type": "code",
   "execution_count": 6,
   "id": "73254424",
   "metadata": {
    "ExecuteTime": {
     "end_time": "2022-12-15T12:31:34.225669Z",
     "start_time": "2022-12-15T12:31:34.219282Z"
    }
   },
   "outputs": [
    {
     "name": "stdout",
     "output_type": "stream",
     "text": [
      "Distance of Ref from A is : 106\n",
      "Distance of Ref from B is : 114\n",
      "Distance of Ref from C is : 73\n",
      "Distance of Ref from D is : 125\n",
      "Distance of Ref from E is : 90\n",
      "Distance of Ref from F is : 149\n",
      "Distance of Ref from G is : 37\n",
      "Distance of Ref from H is : 52\n",
      "Distance of Ref from I is : 41\n",
      "Distance of Ref from J is : 131\n"
     ]
    }
   ],
   "source": [
    "#Task4\n",
    "import random\n",
    "\n",
    "loc_pairs=[]\n",
    "rand_loc=[]\n",
    "\n",
    "#create 10 pairs of co-ordinates\n",
    "for i in range(10):\n",
    "    loc_pairs=[]\n",
    "    for j in range(2):\n",
    "        loc_pairs.append(random.randint(-100,100))\n",
    "        #rand_loc.append(random.randint(-100,100))\n",
    "    rand_loc.append(loc_pairs)\n",
    "    \n",
    "#print(rand_loc)\n",
    "alpha=[\"A\",\"B\",\"C\",\"D\",\"E\",\"F\",\"G\",\"H\",\"I\",\"J\"]\n",
    "\n",
    "for i in range(10):\n",
    "    l=rand_loc[i]#read out randomly generated location data into l\n",
    "    j=Location(l[0],l[1])\n",
    "    print(\"Distance of Ref from\",alpha[i],\"is :\",ref.manhattan_dist(j))\n",
    "\n"
   ]
  },
  {
   "cell_type": "markdown",
   "id": "fb93834c",
   "metadata": {},
   "source": [
    "## Exercise 2"
   ]
  },
  {
   "cell_type": "code",
   "execution_count": 7,
   "id": "fe919b73",
   "metadata": {
    "ExecuteTime": {
     "end_time": "2022-12-15T12:31:41.909076Z",
     "start_time": "2022-12-15T12:31:41.905754Z"
    }
   },
   "outputs": [],
   "source": [
    "#Task1\n",
    "class Restaurant:\n",
    "    def __init__(self,n,l,o,c):\n",
    "        self.name=n\n",
    "        self.location=Location(l[0],l[1])\n",
    "        self.open_t=o\n",
    "        self.close_t=c\n",
    "        \n",
    "    #display string as required\n",
    "    def __str__(self):\n",
    "        dispstr=f\"Restaurant: {self.name}, in {self.location}, Operating hours: {self.open_t}-{self.close_t}\"\n",
    "        return dispstr\n",
    "#Task2\n",
    "    def get_name(self):\n",
    "        dispstr=f\"{self.name}\"\n",
    "        return dispstr\n",
    "    \n",
    "    def get_operating_hours(self):\n",
    "        t=(self.open_t,self.close_t)\n",
    "        return t\n",
    "    \n",
    "    def change_operating_hours(self,o,c):\n",
    "        self.open_t=o\n",
    "        self.close_t=c\n",
    "        \n",
    "    def getLocation(self):\n",
    "        dispstr=f\"{self.location}\"\n",
    "        return dispstr\n",
    "#Task3\n",
    "    #if the time entered is greater than the opening time, the restaurant is open\n",
    "    def is_open(self,curr):\n",
    "        if curr>=self.open_t:\n",
    "            return True\n",
    "        else:\n",
    "            return False"
   ]
  },
  {
   "cell_type": "markdown",
   "id": "8f905c26",
   "metadata": {},
   "source": [
    "### Task 1 Error Checking"
   ]
  },
  {
   "cell_type": "code",
   "execution_count": 8,
   "id": "31ebac69",
   "metadata": {
    "ExecuteTime": {
     "end_time": "2022-12-15T12:31:55.808663Z",
     "start_time": "2022-12-15T12:31:55.805584Z"
    }
   },
   "outputs": [
    {
     "name": "stdout",
     "output_type": "stream",
     "text": [
      "Restaurant: Rattatouille, in X: 5, Y: 6, Operating hours: 9-21\n"
     ]
    },
    {
     "data": {
      "text/plain": [
       "'Rattatouille'"
      ]
     },
     "execution_count": 8,
     "metadata": {},
     "output_type": "execute_result"
    }
   ],
   "source": [
    "rat = Restaurant('Rattatouille',(5,6),9,21)\n",
    "print(rat)\n",
    "rat.get_name()\n",
    "#rat.get_operating_hours()"
   ]
  },
  {
   "cell_type": "markdown",
   "id": "d6fbe65d",
   "metadata": {},
   "source": [
    "### Task 2 Error Checking"
   ]
  },
  {
   "cell_type": "code",
   "execution_count": 9,
   "id": "78d0ec94",
   "metadata": {
    "ExecuteTime": {
     "end_time": "2022-12-15T12:32:15.834228Z",
     "start_time": "2022-12-15T12:32:15.831462Z"
    }
   },
   "outputs": [
    {
     "data": {
      "text/plain": [
       "(10, 20)"
      ]
     },
     "execution_count": 9,
     "metadata": {},
     "output_type": "execute_result"
    }
   ],
   "source": [
    "rat.change_operating_hours(10,20)\n",
    "rat.get_operating_hours()\n"
   ]
  },
  {
   "cell_type": "code",
   "execution_count": 10,
   "id": "ddd088fc",
   "metadata": {
    "ExecuteTime": {
     "end_time": "2022-12-15T12:32:19.775589Z",
     "start_time": "2022-12-15T12:32:19.773149Z"
    }
   },
   "outputs": [
    {
     "data": {
      "text/plain": [
       "'X: 5, Y: 6'"
      ]
     },
     "execution_count": 10,
     "metadata": {},
     "output_type": "execute_result"
    }
   ],
   "source": [
    "rat.getLocation()"
   ]
  },
  {
   "cell_type": "markdown",
   "id": "8219299d",
   "metadata": {},
   "source": [
    "### Task 3 Error Checking"
   ]
  },
  {
   "cell_type": "code",
   "execution_count": 11,
   "id": "1ae84fc7",
   "metadata": {
    "ExecuteTime": {
     "end_time": "2022-12-15T12:32:23.370932Z",
     "start_time": "2022-12-15T12:32:23.368785Z"
    }
   },
   "outputs": [
    {
     "name": "stdout",
     "output_type": "stream",
     "text": [
      "False\n"
     ]
    }
   ],
   "source": [
    "print(rat.is_open(8))"
   ]
  },
  {
   "cell_type": "code",
   "execution_count": 12,
   "id": "a472593f",
   "metadata": {
    "ExecuteTime": {
     "end_time": "2022-12-15T12:32:24.997416Z",
     "start_time": "2022-12-15T12:32:24.994208Z"
    }
   },
   "outputs": [
    {
     "name": "stdout",
     "output_type": "stream",
     "text": [
      "Sister May's is open.\n",
      "A Quiet One is open.\n"
     ]
    }
   ],
   "source": [
    "#Task 4\n",
    "current_time=12\n",
    "restaurant_list=(Restaurant('Big Joe\\'s Burger Joint',(10,16),15,22),Restaurant('Sister May\\'s',(50,40),10,18),\n",
    "                 Restaurant('The Hungry Fella',(33,66),18,24),Restaurant('A Quiet One',(-10,-10),12,24))\n",
    "\n",
    "#for loop for printing what restaurants are open\n",
    "for i in range(len(restaurant_list)):\n",
    "    if (restaurant_list[i].is_open(current_time)==True):\n",
    "        print(restaurant_list[i].name,\"is open.\")\n"
   ]
  },
  {
   "cell_type": "markdown",
   "id": "7a342fdb",
   "metadata": {},
   "source": [
    "## Exercise 3"
   ]
  },
  {
   "cell_type": "code",
   "execution_count": 13,
   "id": "95e66135",
   "metadata": {
    "ExecuteTime": {
     "end_time": "2022-12-15T12:32:34.914526Z",
     "start_time": "2022-12-15T12:32:34.906989Z"
    }
   },
   "outputs": [],
   "source": [
    "#Task1\n",
    "class Where2Eat_tool:\n",
    "    restaurnats=[]\n",
    "    ratings=dict()\n",
    "    user_loc=Location(0,0)\n",
    "    distance=[]#distance from user to a restaurant\n",
    "\n",
    "    def __init__(self, x, y):\n",
    "        self.x_loc=x\n",
    "        self.y_loc=y\n",
    "        #set the location of the user based on the input for initial call\n",
    "        self.user_loc.set_loc(self.x_loc,self.y_loc)\n",
    "        \n",
    "    #method to change the internal location\n",
    "    def reload_location(self,x,y):\n",
    "        self.user_loc.set_loc(x, y)\n",
    "        print(\"Location Changed\")\n",
    "        \n",
    "#Task2\n",
    "    def add_restaurant(self, new_rest, rating):\n",
    "        self.restaurants=new_rest\n",
    "        self.ratings[self.restaurants]=rating\n",
    "        #print(self.ratings)\n",
    "        \n",
    "    def add_many_restaurants(self, rest_list, rating_list):\n",
    "        self.restaurants=rest_list\n",
    "        #access a dictionary by adding in the key: value pairs\n",
    "        for i in range(len(rest_list)):\n",
    "            self.ratings[self.restaurants[i]]=rating_list[i]\n",
    "        #print(self.ratings)\n",
    "    \n",
    "    #print output as desired\n",
    "    def info(self):\n",
    "        for i in range(len(self.restaurants)):\n",
    "            print(self.restaurants[i],\"Rating:\", self.ratings[self.restaurants[i]],\"/ 10\" )\n",
    "#Task3        \n",
    "    def where_to_eat(self, curr_time):\n",
    "        c_r_d=[None, None, 0]#return variable of choice rating distance\n",
    "        o_time=[]#the open time\n",
    "        rest_equal=[]#restaurants with equal distances\n",
    "        rate_equal=[]#restaurants with equal distances storing only the ratings\n",
    "        same_dist=False#is there a same distance in the list we are given\n",
    "        self.distance=[]#distance from user to restaurant\n",
    "        num_check=0#will ensure ratings only matter when the restaurants with equal distance are closer than \n",
    "        #all other distances\n",
    "        \n",
    "        #appending opening times to a list\n",
    "        for i in range(len(self.restaurants)):\n",
    "            o_time.append(self.restaurants[i].open_t)\n",
    "        #if there are no resturants open return error message and null values\n",
    "        if curr_time<(min(o_time)):\n",
    "            print(\"There is no restaurants open at this time...\")\n",
    "            return c_r_d[0], c_r_d[1], c_r_d[2]\n",
    "        \n",
    "        else:#there is at least 1 open\n",
    "            #calculate the manhattan distance for each restaurant in the list based off user_loc\n",
    "            #append this to distance list\n",
    "            for i in range(len(self.restaurants)):\n",
    "                man_dist=self.user_loc.manhattan_dist(self.restaurants[i].location)\n",
    "                self.distance.append(man_dist)#creating variable to assocaite each restaurant with its distance\n",
    "            #print(self.distance) #error checking for manhattan distance\n",
    "            \n",
    "            #Checking for identical distances\n",
    "            j=0#used to keep track of index in below loop\n",
    "            for num in self.distance:\n",
    "                if self.distance.count(num)>1:#if a distance appears more than once\n",
    "                    rest_equal.append(self.restaurants[j])#add these to a list of equal distance restaurants\n",
    "                    #print(\"There is multiple restaurants having an equal distance of:\",num,\"from you.\")\n",
    "                    rate_equal.append(self.ratings[self.restaurants[j]])#add their ratings aswell\n",
    "                    #print(rate_equal)\n",
    "                    same_dist=True#ensures we enter correct loop below\n",
    "                    num_check=num#ensures we enter correct loop below\n",
    "                    j+=1\n",
    "                else:\n",
    "                    j+=1\n",
    "            \n",
    "            #if we have equal distances and these distances are closer than the rest\n",
    "            if same_dist==True and num_check<=min(self.distance):\n",
    "                max_val=max(rate_equal)#find the largest value for rating\n",
    "                max_loc=rate_equal.index(max_val)#and its position\n",
    "                #Gives us location of best restaurant\n",
    "                c_r_d[0]=rest_equal[max_loc]\n",
    "                c_r_d[1]=max_val\n",
    "                c_r_d[2]=self.distance[max_loc]\n",
    "                return c_r_d[0], c_r_d[1], c_r_d[2]\n",
    "                \n",
    "            else:#we don't have equal distance or we do but there are still options closer\n",
    "                min_dist=min(self.distance)#find smallest distance\n",
    "                min_dloc=self.distance.index(min_dist)#and its position in the array\n",
    "                #Output:\n",
    "                c_r_d[0]=self.restaurants[min_dloc]\n",
    "                c_r_d[1]=self.ratings[self.restaurants[min_dloc]]\n",
    "                c_r_d[2]=self.distance[min_dloc]\n",
    "                \n",
    "                return c_r_d[0], c_r_d[1], c_r_d[2]\n",
    "            "
   ]
  },
  {
   "cell_type": "markdown",
   "id": "2a8092a8",
   "metadata": {},
   "source": [
    "### Error Checking for Task 1 and 2"
   ]
  },
  {
   "cell_type": "code",
   "execution_count": 14,
   "id": "d52bbe60",
   "metadata": {
    "ExecuteTime": {
     "end_time": "2022-12-15T12:33:27.150298Z",
     "start_time": "2022-12-15T12:33:27.146227Z"
    }
   },
   "outputs": [
    {
     "name": "stdout",
     "output_type": "stream",
     "text": [
      "Location Changed\n",
      "Restaurant: Big Joe's Burger Joint, in X: 10, Y: 16, Operating hours: 15-22 Rating: 1 / 10\n",
      "Restaurant: Sister May's, in X: 50, Y: 40, Operating hours: 10-18 Rating: 5 / 10\n",
      "Restaurant: The Hungry Fella, in X: 33, Y: 66, Operating hours: 18-24 Rating: 8 / 10\n",
      "Restaurant: A Quiet One, in X: -10, Y: -16, Operating hours: 12-24 Rating: 10 / 10\n"
     ]
    }
   ],
   "source": [
    "App=Where2Eat_tool(0,0)\n",
    "App.reload_location(5,6)\n",
    "\n",
    "new=Restaurant('Rattatouille',(5,6),9,21)\n",
    "App.add_restaurant(new,8)\n",
    "\n",
    "restaurant_list=(Restaurant('Big Joe\\'s Burger Joint',(10,16),15,22),Restaurant('Sister May\\'s',(50,40),10,18),\n",
    "                 Restaurant('The Hungry Fella',(33,66),18,24),Restaurant('A Quiet One',(-10,-16),12,24))\n",
    "rate=[1,5,8,10]\n",
    "App.add_many_restaurants(restaurant_list,rate)\n",
    "App.info()\n"
   ]
  },
  {
   "cell_type": "markdown",
   "id": "d3e7162a",
   "metadata": {},
   "source": [
    "### Error Checking for Task 3"
   ]
  },
  {
   "cell_type": "code",
   "execution_count": 15,
   "id": "fc48e007",
   "metadata": {
    "ExecuteTime": {
     "end_time": "2022-12-15T12:33:33.002577Z",
     "start_time": "2022-12-15T12:33:32.996975Z"
    }
   },
   "outputs": [
    {
     "name": "stdout",
     "output_type": "stream",
     "text": [
      "Location Changed\n",
      "There is no restaurants open at this time...\n",
      "Best option is the None Rating: None Distance: 0\n",
      "Best option is the Restaurant: A Quiet One, in X: -10, Y: -16, Operating hours: 12-24 Rating: 10 Distance: 90\n",
      "Best option is the Restaurant: A Quiet One, in X: -10, Y: -16, Operating hours: 12-24 Rating: 10 Distance: 90\n",
      "Location Changed\n",
      "Best option is the Restaurant: Sister May's, in X: 50, Y: 40, Operating hours: 10-18 Rating: 5 Distance: 10\n"
     ]
    }
   ],
   "source": [
    "App.reload_location(0,0)\n",
    "choice, rating, dist= App.where_to_eat(8)\n",
    "print(\"Best option is the\",choice,\"Rating:\",rating,\"Distance:\",dist)\n",
    "choice, rating, dist= App.where_to_eat(20)\n",
    "print(\"Best option is the\",choice,\"Rating:\",rating,\"Distance:\",dist)\n",
    "choice, rating, dist= App.where_to_eat(20)\n",
    "print(\"Best option is the\",choice,\"Rating:\",rating,\"Distance:\",dist)\n",
    "App.reload_location(50,50)\n",
    "choice, rating, dist= App.where_to_eat(13)\n",
    "print(\"Best option is the\",choice,\"Rating:\",rating,\"Distance:\",dist)"
   ]
  },
  {
   "cell_type": "code",
   "execution_count": null,
   "id": "d86d301b",
   "metadata": {},
   "outputs": [],
   "source": []
  },
  {
   "cell_type": "code",
   "execution_count": null,
   "id": "b3ae0bbf",
   "metadata": {},
   "outputs": [],
   "source": []
  },
  {
   "cell_type": "code",
   "execution_count": null,
   "id": "50761a5e",
   "metadata": {},
   "outputs": [],
   "source": []
  }
 ],
 "metadata": {
  "kernelspec": {
   "display_name": "Python [conda env:python_oop]",
   "language": "python",
   "name": "conda-env-python_oop-py"
  },
  "language_info": {
   "codemirror_mode": {
    "name": "ipython",
    "version": 3
   },
   "file_extension": ".py",
   "mimetype": "text/x-python",
   "name": "python",
   "nbconvert_exporter": "python",
   "pygments_lexer": "ipython3",
   "version": "3.9.13"
  }
 },
 "nbformat": 4,
 "nbformat_minor": 5
}
